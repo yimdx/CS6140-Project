{
 "cells": [
  {
   "cell_type": "code",
   "execution_count": 37,
   "metadata": {},
   "outputs": [
    {
     "name": "stdout",
     "output_type": "stream",
     "text": [
      "/opt/anaconda3/envs/surprise_env/bin/python\n",
      "['/opt/anaconda3/envs/surprise_env/lib/python39.zip', '/opt/anaconda3/envs/surprise_env/lib/python3.9', '/opt/anaconda3/envs/surprise_env/lib/python3.9/lib-dynload', '', '/opt/anaconda3/envs/surprise_env/lib/python3.9/site-packages']\n",
      "1.21.6\n"
     ]
    }
   ],
   "source": [
    "# !pip install surprise\n",
    "!which python\n",
    "import sys\n",
    "print(sys.path)\n",
    "import numpy\n",
    "print(numpy.__version__)\n"
   ]
  },
  {
   "cell_type": "code",
   "execution_count": 38,
   "metadata": {},
   "outputs": [
    {
     "name": "stdout",
     "output_type": "stream",
     "text": [
      "shape of data =  (2029, 5)\n"
     ]
    },
    {
     "data": {
      "text/plain": [
       "<surprise.prediction_algorithms.matrix_factorization.SVD at 0x162a31460>"
      ]
     },
     "execution_count": 38,
     "metadata": {},
     "output_type": "execute_result"
    }
   ],
   "source": [
    "import pandas as pd\n",
    "# 5-core-train\n",
    "df = pd.read_csv('All_Beauty.train.csv')\n",
    "print(\"shape of data = \", df.shape)\n",
    "df[:5]\n",
    "from surprise import KNNWithMeans, Reader, Dataset, SVD\n",
    "from surprise.model_selection import train_test_split, GridSearchCV\n",
    "from surprise.accuracy import rmse\n",
    "\n",
    "reader = Reader(rating_scale=(1, 5))\n",
    "data = Dataset.load_from_df(df[['user_id', 'parent_asin', 'rating']], reader)\n",
    "trainset = data.build_full_trainset()\n",
    "\n",
    "model = SVD(n_factors=50, reg_all=0.02, lr_all=0.005, n_epochs=20)\n",
    "model.fit(trainset)\n",
    "\n"
   ]
  },
  {
   "cell_type": "code",
   "execution_count": 49,
   "metadata": {},
   "outputs": [
    {
     "name": "stdout",
     "output_type": "stream",
     "text": [
      "shape of data =  (253, 5)\n",
      "RMSE: 0.9854\n"
     ]
    }
   ],
   "source": [
    "test_df = pd.read_csv('ALl_Beauty.test.csv')\n",
    "print(\"shape of data = \", test_df.shape)\n",
    "test_df[:5]\n",
    "from surprise import KNNWithMeans, Reader, Dataset, SVD\n",
    "from surprise.model_selection import train_test_split, GridSearchCV\n",
    "from surprise import accuracy\n",
    "\n",
    "reader = Reader(rating_scale=(1, 5))\n",
    "testset = list(zip(test_df['user_id'].values, test_df['parent_asin'].values, test_df['rating'].values))\n",
    "predictions = model.test(testset)\n",
    "rmse = accuracy.rmse(predictions)\n"
   ]
  },
  {
   "cell_type": "code",
   "execution_count": 65,
   "metadata": {},
   "outputs": [
    {
     "data": {
      "text/plain": [
       "253"
      ]
     },
     "execution_count": 65,
     "metadata": {},
     "output_type": "execute_result"
    }
   ],
   "source": [
    "test_users = test_df['user_id']\n",
    "all_items = df['parent_asin'].unique()\n",
    "len(test_df)"
   ]
  },
  {
   "cell_type": "code",
   "execution_count": null,
   "metadata": {},
   "outputs": [],
   "source": [
    "# print(len(predictions))\n",
    "import tqdm as tqdm\n",
    "def rec_k(k):\n",
    "    length = len(test_users)\n",
    "    count = 0\n",
    "    topk = {}\n",
    "    for user in test_users:\n",
    "        count+=1\n",
    "        candidates = []\n",
    "        user_viewed = df[df[\"user_id\"] == user]['parent_asin'].unique()\n",
    "        for item in all_items:\n",
    "            if item not in user_viewed:\n",
    "                pred = model.predict(user, item)\n",
    "                candidates.append((pred.est, item))\n",
    "        candidates.sort(reverse=True)\n",
    "        candidates = candidates[0:k]\n",
    "        topk[user] = [item for _,item in candidates]\n",
    "    # print(topk[test_users[0]])\n",
    "    return topk\n",
    "# print(test_df['user_id'].unique())\n"
   ]
  },
  {
   "cell_type": "code",
   "execution_count": null,
   "metadata": {},
   "outputs": [],
   "source": [
    "print(test_df)"
   ]
  },
  {
   "cell_type": "code",
   "execution_count": null,
   "metadata": {},
   "outputs": [
    {
     "name": "stdout",
     "output_type": "stream",
     "text": [
      "['B08BFH35VX', 'B085SY4WC3', 'B086VYKNDF', 'B07T4LKC4D', 'B07SV4HTMC', 'B08JTNQFZY', 'B08SG2MBRY', 'B08SQZ1B3W', 'B08NJ5BTWG', 'B08CVTNQP1', 'B08B3TCMSQ', 'B08MRRNL18', 'B08N9RT9YD', 'B07ZS3DKL5', 'B08RYN11N9', 'B089ZQ8Y95', 'B08C2T24WG', 'B08QVJ4NVD', 'B08H4SYXR4', 'B07P4LLZS6', 'B09C5NQSC5', 'B08XZDXTG2', 'B088TXBCB5', 'B07M9D3WYW', 'B08SQ31H8P', 'B08L4HTQ3R', 'B081MQD52C', 'B07X8W7GJZ', 'B0914JBBTV', 'B08CZ5JZMZ', 'B08C72C56Z', 'B07JGD2T2J', 'B01EK2F1PC', 'B087F14JSH', 'B099959RFF', 'B08KY7VYDS', 'B08CC6YRLJ', 'B087PJ121M', 'B07TLMZL3T', 'B0885W8GCL', 'B07VQR3W3Z', 'B091GG4N2X', 'B0998BD871', 'B087Z9X39L', 'B08G5YVHQP', 'B08GS1G9BH', 'B0895XPZNT', 'B088LWRYJC', 'B0813ZQG3T', 'B088TGQFNM', 'B088TYPM71', 'B09BJM95J7', 'B08PVH18Z6', 'B0888CX245', 'B081D2R47W', 'B08HGZXLP6', 'B08N6YHQXT', 'B08GKVYS1Y', 'B08L6GXY2S', 'B0941YDPSW', 'B09GVHT2D3', 'B01MSF13T1', 'B0B8SFDJN9', 'B088YHN4JT', 'B07YL4485K', 'B08VKQY815', 'B086VK22QT', 'B0713VF172', 'B08TB3DZ1D', 'B08HZ5Y8RY', 'B0977LVHF8', 'B08BLX72TP', 'B07YS9W97B', 'B092M5K59T', 'B08K8P7LN6', 'B093H28PD4', 'B07HR754WV', 'B07KG1TWP5', 'B08S3B8Y5G', 'B085TFXLH1', 'B086GST51S', 'B0949MJRHK', 'B089R7S73D', 'B085MCMZLX', 'B08FD2KP9R', 'B08G83G24X', 'B08KJF6Y6C', 'B07ZQRX7FX', 'B086N2SY91', 'B08BF4BKKM', 'B08L3J4FB9', 'B09HMXY36F', 'B09LWV3HH2', 'B08GYJY8F2', 'B08JPKXJMV', 'B085RS26YH', 'B07YV9J2YZ', 'B08DXZ5VXB', 'B085NYYLQ8', 'B08B3SJNL5', 'B08BYK8SKR', 'B087ZQG11L', 'B086MN4SRX', 'B08XJWLLKQ', 'B08YJV9YL2', 'B07ZJX5MNJ', 'B08DNCR582', 'B08F4ZDVZQ', 'B07FP2C8N8', 'B08BYKQS9S', 'B087D7MVHB', 'B08RY6S25W', 'B00TK0VV68', 'B088NVJSJT', 'B082NKQ4ZT', 'B09L33VJCL', 'B08CVCLVS2', 'B08S2LYN64', 'B07J1LYVHC', 'B08DK5D9J5', 'B082MDFNZM', 'B087FTZSZH', 'B09GNXK3N1', 'B08SBV6Z57', 'B0837K9W6P', 'B08K2WH8LK', 'B08BY91SGT', 'B089D16BWJ', 'B07Z3NRMBS', 'B08C71WBLC', 'B08693T3XR', 'B08QFGV5ZQ', 'B08LPGZMQK', 'B0BTJ6SYKB', 'B083BGJ4P9', 'B095C1WF44', 'B08HMLXW65', 'B084WP4XS8', 'B07ND4HPHT', 'B086TS3BKQ', 'B08LPJT4MT', 'B088ZVSLYP', 'B07WNBZQGT', 'B08QHP717Z', 'B08F79Z1Q5', 'B0895FHBVG', 'B08MC3ZLV4', 'B01MA3LXIL', 'B083B67373', 'B08P5579KC', 'B08P7PSMRR', 'B08WCQWP3T', 'B08XQYZWCS', 'B082VKPJV5', 'B09671G4KH', 'B08NTD1NM1', 'B088GWCVVJ', 'B09473GGM4', 'B08HRNPNR5', 'B08NC4378M', 'B088X2WPTX', 'B08PTZL95G', 'B07DKRK8ZW', 'B0859CYSTM', 'B07PBWVV5K', 'B08W8LKLHB', 'B08Q3F3L7S', 'B0841WQNNZ', 'B08W4WQMNM', 'B07J3GH1W1', 'B08DXCVRNY', 'B0932Z1NM1', 'B095CG2ZV1', 'B0994HWXVV', 'B01M24DUXH', 'B08KGVBW41', 'B07XVNJFNF', 'B089CSF11Y', 'B086Q2J3F2', 'B08YNR839W', 'B01N7A5AGF', 'B086ST4W1C', 'B08RRSPNWV', 'B089QR2Y5B', 'B08WF29DM9', 'B08CL46XNM', 'B08BZ1RHPS', 'B07SY7WPS4', 'B08SJKR877', 'B0912BNP4J', 'B07NPWK167', 'B07T3Z58HL', 'B07YG4PRTN', 'B08R3F946X', 'B07D5FBFQ4', 'B087G54FLM', 'B08DRBZNZJ', 'B08P4YQ3K5', 'B08RQZ3F3L', 'B07RBSLNFR']\n"
     ]
    },
    {
     "name": "stderr",
     "output_type": "stream",
     "text": [
      "100%|██████████| 253/253 [00:00<00:00, 3271.22it/s]"
     ]
    },
    {
     "name": "stdout",
     "output_type": "stream",
     "text": [
      "0.2727272727272727\n"
     ]
    },
    {
     "name": "stderr",
     "output_type": "stream",
     "text": [
      "\n"
     ]
    }
   ],
   "source": [
    "# count = 0\n",
    "# print(topk[test_users[0]])\n",
    "# for i in tqdm.tqdm(range(len(test_users))):\n",
    "#     viewed = test_df[test_df[\"user_id\"]==test_users[i]]['rating'].unique()\n",
    "#     viewed_item = test_df[test_df[\"user_id\"]==test_users[i]]['parent_asin'].unique()[0]\n",
    "#     if viewed_item not in all_items:\n",
    "#         count+=1\n",
    "# print(count/len(test_users))"
   ]
  },
  {
   "cell_type": "code",
   "execution_count": 73,
   "metadata": {},
   "outputs": [
    {
     "name": "stdout",
     "output_type": "stream",
     "text": [
      "253 \\/ 253\r"
     ]
    },
    {
     "name": "stderr",
     "output_type": "stream",
     "text": [
      "100%|██████████| 253/253 [00:00<00:00, 2762.03it/s]\n"
     ]
    },
    {
     "name": "stdout",
     "output_type": "stream",
     "text": [
      "253 \\/ 253\r"
     ]
    },
    {
     "name": "stderr",
     "output_type": "stream",
     "text": [
      "100%|██████████| 253/253 [00:00<00:00, 2853.64it/s]\n"
     ]
    },
    {
     "name": "stdout",
     "output_type": "stream",
     "text": [
      "253 \\/ 253\r"
     ]
    },
    {
     "name": "stderr",
     "output_type": "stream",
     "text": [
      "100%|██████████| 253/253 [00:00<00:00, 2973.53it/s]\n"
     ]
    },
    {
     "name": "stdout",
     "output_type": "stream",
     "text": [
      "253 \\/ 253\r"
     ]
    },
    {
     "name": "stderr",
     "output_type": "stream",
     "text": [
      "100%|██████████| 253/253 [00:00<00:00, 3012.29it/s]\n"
     ]
    },
    {
     "name": "stdout",
     "output_type": "stream",
     "text": [
      "253 \\/ 253\r"
     ]
    },
    {
     "name": "stderr",
     "output_type": "stream",
     "text": [
      "100%|██████████| 253/253 [00:00<00:00, 3001.25it/s]\n"
     ]
    },
    {
     "name": "stdout",
     "output_type": "stream",
     "text": [
      "253 \\/ 253\r"
     ]
    },
    {
     "name": "stderr",
     "output_type": "stream",
     "text": [
      "100%|██████████| 253/253 [00:00<00:00, 2928.40it/s]\n"
     ]
    },
    {
     "name": "stdout",
     "output_type": "stream",
     "text": [
      "253 \\/ 253\r"
     ]
    },
    {
     "name": "stderr",
     "output_type": "stream",
     "text": [
      "100%|██████████| 253/253 [00:00<00:00, 2860.12it/s]\n"
     ]
    },
    {
     "name": "stdout",
     "output_type": "stream",
     "text": [
      "253 \\/ 253\r"
     ]
    },
    {
     "name": "stderr",
     "output_type": "stream",
     "text": [
      "100%|██████████| 253/253 [00:00<00:00, 2997.25it/s]\n"
     ]
    },
    {
     "name": "stdout",
     "output_type": "stream",
     "text": [
      "253 \\/ 253\r"
     ]
    },
    {
     "name": "stderr",
     "output_type": "stream",
     "text": [
      "100%|██████████| 253/253 [00:00<00:00, 2808.12it/s]\n"
     ]
    },
    {
     "name": "stdout",
     "output_type": "stream",
     "text": [
      "253 \\/ 253\r"
     ]
    },
    {
     "name": "stderr",
     "output_type": "stream",
     "text": [
      "100%|██████████| 253/253 [00:00<00:00, 2958.17it/s]\n"
     ]
    },
    {
     "name": "stdout",
     "output_type": "stream",
     "text": [
      "253 \\/ 253\r"
     ]
    },
    {
     "name": "stderr",
     "output_type": "stream",
     "text": [
      "100%|██████████| 253/253 [00:00<00:00, 3039.40it/s]\n"
     ]
    },
    {
     "name": "stdout",
     "output_type": "stream",
     "text": [
      "253 \\/ 253\r"
     ]
    },
    {
     "name": "stderr",
     "output_type": "stream",
     "text": [
      "100%|██████████| 253/253 [00:00<00:00, 2883.06it/s]\n"
     ]
    },
    {
     "name": "stdout",
     "output_type": "stream",
     "text": [
      "253 \\/ 253\r"
     ]
    },
    {
     "name": "stderr",
     "output_type": "stream",
     "text": [
      "100%|██████████| 253/253 [00:00<00:00, 2968.64it/s]\n"
     ]
    },
    {
     "name": "stdout",
     "output_type": "stream",
     "text": [
      "253 \\/ 253\r"
     ]
    },
    {
     "name": "stderr",
     "output_type": "stream",
     "text": [
      "100%|██████████| 253/253 [00:00<00:00, 2990.15it/s]"
     ]
    },
    {
     "name": "stdout",
     "output_type": "stream",
     "text": [
      "10 \\/ 253\r"
     ]
    },
    {
     "name": "stderr",
     "output_type": "stream",
     "text": [
      "\n"
     ]
    },
    {
     "name": "stdout",
     "output_type": "stream",
     "text": [
      "253 \\/ 253\r"
     ]
    },
    {
     "name": "stderr",
     "output_type": "stream",
     "text": [
      "100%|██████████| 253/253 [00:00<00:00, 3008.86it/s]\n"
     ]
    }
   ],
   "source": [
    "x = []\n",
    "y = []\n",
    "for k in range(10, 300, 20):   \n",
    "    x.append(k) \n",
    "    topk = rec_k(k)\n",
    "    count = 0\n",
    "    # print(topk[test_users[0]])\n",
    "    for i in tqdm.tqdm(range(len(test_users))):\n",
    "        viewed = test_df[test_df[\"user_id\"]==test_users[i]]['rating'].unique()\n",
    "        viewed_item = test_df[test_df[\"user_id\"]==test_users[i]]['parent_asin'].unique()[0]\n",
    "        if viewed_item in topk[test_users[i]]:\n",
    "            count+=1\n",
    "        # else:\n",
    "        #     print(viewed_item)\n",
    "        #     print(topk[test_users[i]])\n",
    "    y.append(count/len(test_users))"
   ]
  },
  {
   "cell_type": "code",
   "execution_count": 74,
   "metadata": {},
   "outputs": [
    {
     "name": "stdout",
     "output_type": "stream",
     "text": [
      "[10, 30, 50, 70, 90, 110, 130, 150, 170, 190, 210, 230, 250, 270, 290]\n",
      "[0.0, 0.05138339920948617, 0.09881422924901186, 0.12648221343873517, 0.15810276679841898, 0.1976284584980237, 0.233201581027668, 0.308300395256917, 0.383399209486166, 0.4189723320158103, 0.4980237154150198, 0.5375494071146245, 0.5810276679841897, 0.6284584980237155, 0.6600790513833992]\n"
     ]
    }
   ],
   "source": [
    "print(x)\n",
    "print(y)"
   ]
  },
  {
   "cell_type": "code",
   "execution_count": 71,
   "metadata": {},
   "outputs": [
    {
     "ename": "AttributeError",
     "evalue": "module 'matplotlib' has no attribute 'get_data_path'",
     "output_type": "error",
     "traceback": [
      "\u001b[0;31m---------------------------------------------------------------------------\u001b[0m",
      "\u001b[0;31mAttributeError\u001b[0m                            Traceback (most recent call last)",
      "Cell \u001b[0;32mIn[71], line 1\u001b[0m\n\u001b[0;32m----> 1\u001b[0m \u001b[38;5;28;01mimport\u001b[39;00m\u001b[38;5;250m \u001b[39m\u001b[38;5;21;01mmatplotlib\u001b[39;00m\u001b[38;5;21;01m.\u001b[39;00m\u001b[38;5;21;01mpyplot\u001b[39;00m\u001b[38;5;250m \u001b[39m\u001b[38;5;28;01mas\u001b[39;00m\u001b[38;5;250m \u001b[39m\u001b[38;5;21;01mplt\u001b[39;00m\n",
      "File \u001b[0;32m/opt/anaconda3/envs/surprise_env/lib/python3.9/site-packages/matplotlib/__init__.py:964\u001b[0m\n\u001b[1;32m    957\u001b[0m     \u001b[38;5;28;01mreturn\u001b[39;00m config\n\u001b[1;32m    960\u001b[0m \u001b[38;5;66;03m# When constructing the global instances, we need to perform certain updates\u001b[39;00m\n\u001b[1;32m    961\u001b[0m \u001b[38;5;66;03m# by explicitly calling the superclass (dict.update, dict.items) to avoid\u001b[39;00m\n\u001b[1;32m    962\u001b[0m \u001b[38;5;66;03m# triggering resolution of _auto_backend_sentinel.\u001b[39;00m\n\u001b[1;32m    963\u001b[0m rcParamsDefault \u001b[38;5;241m=\u001b[39m _rc_params_in_file(\n\u001b[0;32m--> 964\u001b[0m     \u001b[43mcbook\u001b[49m\u001b[38;5;241;43m.\u001b[39;49m\u001b[43m_get_data_path\u001b[49m\u001b[43m(\u001b[49m\u001b[38;5;124;43m\"\u001b[39;49m\u001b[38;5;124;43mmatplotlibrc\u001b[39;49m\u001b[38;5;124;43m\"\u001b[39;49m\u001b[43m)\u001b[49m,\n\u001b[1;32m    965\u001b[0m     \u001b[38;5;66;03m# Strip leading comment.\u001b[39;00m\n\u001b[1;32m    966\u001b[0m     transform\u001b[38;5;241m=\u001b[39m\u001b[38;5;28;01mlambda\u001b[39;00m line: line[\u001b[38;5;241m1\u001b[39m:] \u001b[38;5;28;01mif\u001b[39;00m line\u001b[38;5;241m.\u001b[39mstartswith(\u001b[38;5;124m\"\u001b[39m\u001b[38;5;124m#\u001b[39m\u001b[38;5;124m\"\u001b[39m) \u001b[38;5;28;01melse\u001b[39;00m line,\n\u001b[1;32m    967\u001b[0m     fail_on_error\u001b[38;5;241m=\u001b[39m\u001b[38;5;28;01mTrue\u001b[39;00m)\n\u001b[1;32m    968\u001b[0m \u001b[38;5;28mdict\u001b[39m\u001b[38;5;241m.\u001b[39mupdate(rcParamsDefault, rcsetup\u001b[38;5;241m.\u001b[39m_hardcoded_defaults)\n\u001b[1;32m    969\u001b[0m \u001b[38;5;66;03m# Normally, the default matplotlibrc file contains *no* entry for backend (the\u001b[39;00m\n\u001b[1;32m    970\u001b[0m \u001b[38;5;66;03m# corresponding line starts with ##, not #; we fill on _auto_backend_sentinel\u001b[39;00m\n\u001b[1;32m    971\u001b[0m \u001b[38;5;66;03m# in that case.  However, packagers can set a different default backend\u001b[39;00m\n\u001b[1;32m    972\u001b[0m \u001b[38;5;66;03m# (resulting in a normal `#backend: foo` line) in which case we should *not*\u001b[39;00m\n\u001b[1;32m    973\u001b[0m \u001b[38;5;66;03m# fill in _auto_backend_sentinel.\u001b[39;00m\n",
      "File \u001b[0;32m/opt/anaconda3/envs/surprise_env/lib/python3.9/site-packages/matplotlib/cbook.py:545\u001b[0m, in \u001b[0;36m_get_data_path\u001b[0;34m(*args)\u001b[0m\n\u001b[1;32m    539\u001b[0m \u001b[38;5;28;01mdef\u001b[39;00m\u001b[38;5;250m \u001b[39m\u001b[38;5;21m_get_data_path\u001b[39m(\u001b[38;5;241m*\u001b[39margs):\n\u001b[1;32m    540\u001b[0m \u001b[38;5;250m    \u001b[39m\u001b[38;5;124;03m\"\"\"\u001b[39;00m\n\u001b[1;32m    541\u001b[0m \u001b[38;5;124;03m    Return the `pathlib.Path` to a resource file provided by Matplotlib.\u001b[39;00m\n\u001b[1;32m    542\u001b[0m \n\u001b[1;32m    543\u001b[0m \u001b[38;5;124;03m    ``*args`` specify a path relative to the base data path.\u001b[39;00m\n\u001b[1;32m    544\u001b[0m \u001b[38;5;124;03m    \"\"\"\u001b[39;00m\n\u001b[0;32m--> 545\u001b[0m     \u001b[38;5;28;01mreturn\u001b[39;00m Path(\u001b[43mmatplotlib\u001b[49m\u001b[38;5;241;43m.\u001b[39;49m\u001b[43mget_data_path\u001b[49m(), \u001b[38;5;241m*\u001b[39margs)\n",
      "File \u001b[0;32m/opt/anaconda3/envs/surprise_env/lib/python3.9/site-packages/matplotlib/_api/__init__.py:217\u001b[0m, in \u001b[0;36mcaching_module_getattr.<locals>.__getattr__\u001b[0;34m(name)\u001b[0m\n\u001b[1;32m    215\u001b[0m \u001b[38;5;28;01mif\u001b[39;00m name \u001b[38;5;129;01min\u001b[39;00m props:\n\u001b[1;32m    216\u001b[0m     \u001b[38;5;28;01mreturn\u001b[39;00m props[name]\u001b[38;5;241m.\u001b[39m\u001b[38;5;21m__get__\u001b[39m(instance)\n\u001b[0;32m--> 217\u001b[0m \u001b[38;5;28;01mraise\u001b[39;00m \u001b[38;5;167;01mAttributeError\u001b[39;00m(\n\u001b[1;32m    218\u001b[0m     \u001b[38;5;124mf\u001b[39m\u001b[38;5;124m\"\u001b[39m\u001b[38;5;124mmodule \u001b[39m\u001b[38;5;132;01m{\u001b[39;00m\u001b[38;5;28mcls\u001b[39m\u001b[38;5;241m.\u001b[39m\u001b[38;5;18m__module__\u001b[39m\u001b[38;5;132;01m!r}\u001b[39;00m\u001b[38;5;124m has no attribute \u001b[39m\u001b[38;5;132;01m{\u001b[39;00mname\u001b[38;5;132;01m!r}\u001b[39;00m\u001b[38;5;124m\"\u001b[39m)\n",
      "\u001b[0;31mAttributeError\u001b[0m: module 'matplotlib' has no attribute 'get_data_path'"
     ]
    }
   ],
   "source": [
    "import matplotlib.pyplot as plt"
   ]
  },
  {
   "cell_type": "code",
   "execution_count": 16,
   "metadata": {},
   "outputs": [
    {
     "name": "stdout",
     "output_type": "stream",
     "text": [
      "Estimated rating for B07SLFWZKN by AFSKPY37N3C43SOI5IEXEK5JSIYA is 4.176529148815224\n"
     ]
    }
   ],
   "source": [
    "user_id = 'AFSKPY37N3C43SOI5IEXEK5JSIYA'\n",
    "item_id = 'B07SLFWZKN'\n",
    "predicted_rating = model.predict(user_id, item_id)\n",
    "print(f\"Estimated rating for {item_id} by {user_id} is {predicted_rating.est}\")\n",
    "\n"
   ]
  }
 ],
 "metadata": {
  "kernelspec": {
   "display_name": "surprise_env",
   "language": "python",
   "name": "python3"
  },
  "language_info": {
   "codemirror_mode": {
    "name": "ipython",
    "version": 3
   },
   "file_extension": ".py",
   "mimetype": "text/x-python",
   "name": "python",
   "nbconvert_exporter": "python",
   "pygments_lexer": "ipython3",
   "version": "3.9.18"
  }
 },
 "nbformat": 4,
 "nbformat_minor": 2
}
