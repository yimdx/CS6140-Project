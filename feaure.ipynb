{
 "cells": [
  {
   "cell_type": "code",
   "execution_count": null,
   "metadata": {
    "vscode": {
     "languageId": "plaintext"
    }
   },
   "outputs": [],
   "source": [
    "import pandas as pd\n",
    "import numpy as np\n",
    "from sklearn.feature_extraction.text import TfidfVectorizer\n",
    "from sklearn.metrics.pairwise import cosine_similarity\n",
    "\n",
    "# Load and preprocess data\n",
    "df = pd.read_csv('amazon_reviews_2023.csv')\n",
    "df = df.dropna(subset=['user_id', 'item_id', 'review_text'])\n",
    "\n",
    "# Aggregate item features\n",
    "item_features = df.groupby('item_id')['review_text'].apply(' '.join).reset_index()\n",
    "\n",
    "# TF-IDF Vectorization\n",
    "tfidf = TfidfVectorizer(stop_words='english', max_features=5000)\n",
    "item_vectors = tfidf.fit_transform(item_features['review_text'])\n",
    "\n",
    "# Create user profiles (example for one user)\n",
    "user_ratings = df[df['user_id'] == 'USER123'][['item_id', 'rating']]\n",
    "user_item_indices = user_ratings['item_id'].map(item_features['item_id'].index.tolist())\n",
    "weights = user_ratings['rating'].values\n",
    "weighted_vectors = item_vectors[user_item_indices].multiply(weights[:, None])\n",
    "user_profile = weighted_vectors.sum(axis=0)\n",
    "\n",
    "# Generate recommendations\n",
    "similarities = cosine_similarity(user_profile, item_vectors)\n",
    "top_items = np.argsort(similarities[0])[::-1][:10]\n",
    "recommended_products = item_features['item_id'].iloc[top_items]"
   ]
  }
 ],
 "metadata": {
  "language_info": {
   "name": "python"
  }
 },
 "nbformat": 4,
 "nbformat_minor": 2
}
