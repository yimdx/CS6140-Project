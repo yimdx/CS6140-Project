{
 "cells": [
  {
   "cell_type": "code",
   "execution_count": 1,
   "metadata": {},
   "outputs": [
    {
     "name": "stderr",
     "output_type": "stream",
     "text": [
      "/home/exouser/miniconda3/envs/rs/lib/python3.10/site-packages/tqdm/auto.py:21: TqdmWarning: IProgress not found. Please update jupyter and ipywidgets. See https://ipywidgets.readthedocs.io/en/stable/user_install.html\n",
      "  from .autonotebook import tqdm as notebook_tqdm\n"
     ]
    }
   ],
   "source": [
    "import datasets\n",
    "datasets.logging.set_verbosity_error()\n",
    "from datasets import load_dataset\n",
    "\n"
   ]
  },
  {
   "cell_type": "code",
   "execution_count": 5,
   "metadata": {},
   "outputs": [],
   "source": [
    "from datasets import load_dataset\n",
    "\n",
    "meta_dataset = load_dataset(\"McAuley-Lab/Amazon-Reviews-2023\", \"raw_meta_Industrial_and_Scientific\",split=\"full\", trust_remote_code=True)"
   ]
  },
  {
   "cell_type": "code",
   "execution_count": 9,
   "metadata": {},
   "outputs": [],
   "source": [
    "meta_dataset[0][\"title\"]\n",
    "type(meta_dataset)\n",
    "meta_df = meta_dataset.to_pandas()"
   ]
  },
  {
   "cell_type": "code",
   "execution_count": 10,
   "metadata": {},
   "outputs": [],
   "source": [
    "df_meta = meta_df[[\"main_category\", \"title\", \"average_rating\", \"parent_asin\"]]\n"
   ]
  },
  {
   "cell_type": "code",
   "execution_count": 11,
   "metadata": {},
   "outputs": [
    {
     "data": {
      "text/html": [
       "<div>\n",
       "<style scoped>\n",
       "    .dataframe tbody tr th:only-of-type {\n",
       "        vertical-align: middle;\n",
       "    }\n",
       "\n",
       "    .dataframe tbody tr th {\n",
       "        vertical-align: top;\n",
       "    }\n",
       "\n",
       "    .dataframe thead th {\n",
       "        text-align: right;\n",
       "    }\n",
       "</style>\n",
       "<table border=\"1\" class=\"dataframe\">\n",
       "  <thead>\n",
       "    <tr style=\"text-align: right;\">\n",
       "      <th></th>\n",
       "      <th>main_category</th>\n",
       "      <th>title</th>\n",
       "      <th>average_rating</th>\n",
       "      <th>parent_asin</th>\n",
       "    </tr>\n",
       "  </thead>\n",
       "  <tbody>\n",
       "    <tr>\n",
       "      <th>0</th>\n",
       "      <td>Industrial &amp; Scientific</td>\n",
       "      <td>Carlisle FoodService Products 1077108 StorPlus...</td>\n",
       "      <td>4.4</td>\n",
       "      <td>B07N83D8HC</td>\n",
       "    </tr>\n",
       "    <tr>\n",
       "      <th>1</th>\n",
       "      <td>Office Products</td>\n",
       "      <td>OSHA Notice Signs - Do Not Open Door Must Be O...</td>\n",
       "      <td>5.0</td>\n",
       "      <td>B07T3RJCL7</td>\n",
       "    </tr>\n",
       "    <tr>\n",
       "      <th>2</th>\n",
       "      <td>Tools &amp; Home Improvement</td>\n",
       "      <td>TEKTON 7165 6-Inch Dial Caliper</td>\n",
       "      <td>3.6</td>\n",
       "      <td>B000NQ4PVG</td>\n",
       "    </tr>\n",
       "    <tr>\n",
       "      <th>3</th>\n",
       "      <td>All Electronics</td>\n",
       "      <td>Conwork Heat Shrink Fork Terminal Connectors K...</td>\n",
       "      <td>4.3</td>\n",
       "      <td>B06XF9L8TT</td>\n",
       "    </tr>\n",
       "    <tr>\n",
       "      <th>4</th>\n",
       "      <td>Industrial &amp; Scientific</td>\n",
       "      <td>HiLetgo 20pcs WH148 Single-Joint Potentiometer...</td>\n",
       "      <td>4.6</td>\n",
       "      <td>B07VJ4DNLW</td>\n",
       "    </tr>\n",
       "    <tr>\n",
       "      <th>...</th>\n",
       "      <td>...</td>\n",
       "      <td>...</td>\n",
       "      <td>...</td>\n",
       "      <td>...</td>\n",
       "    </tr>\n",
       "    <tr>\n",
       "      <th>427559</th>\n",
       "      <td>Industrial &amp; Scientific</td>\n",
       "      <td>BOX USA 40x20x20 Corrugated Boxes, Large, 40L ...</td>\n",
       "      <td>3.6</td>\n",
       "      <td>B085M7B3MW</td>\n",
       "    </tr>\n",
       "    <tr>\n",
       "      <th>427560</th>\n",
       "      <td>Industrial &amp; Scientific</td>\n",
       "      <td>Socket Head Cap Screw, 3/8-16 x 5\", Stainless ...</td>\n",
       "      <td>4.1</td>\n",
       "      <td>B07CPFCHRJ</td>\n",
       "    </tr>\n",
       "    <tr>\n",
       "      <th>427561</th>\n",
       "      <td>Tools &amp; Home Improvement</td>\n",
       "      <td>American Lock ASL40 w/ chain</td>\n",
       "      <td>5.0</td>\n",
       "      <td>B0063IERWU</td>\n",
       "    </tr>\n",
       "    <tr>\n",
       "      <th>427562</th>\n",
       "      <td>Industrial &amp; Scientific</td>\n",
       "      <td>SmartSign 24 x 18 inch “Warning - Place Garbag...</td>\n",
       "      <td>5.0</td>\n",
       "      <td>B095STFHF3</td>\n",
       "    </tr>\n",
       "    <tr>\n",
       "      <th>427563</th>\n",
       "      <td>Tools &amp; Home Improvement</td>\n",
       "      <td>Red Head WS-1226 Trubolt Carbon Steel Wedge 1/...</td>\n",
       "      <td>2.0</td>\n",
       "      <td>B0B2F3RS3L</td>\n",
       "    </tr>\n",
       "  </tbody>\n",
       "</table>\n",
       "<p>427564 rows × 4 columns</p>\n",
       "</div>"
      ],
      "text/plain": [
       "                   main_category  \\\n",
       "0        Industrial & Scientific   \n",
       "1                Office Products   \n",
       "2       Tools & Home Improvement   \n",
       "3                All Electronics   \n",
       "4        Industrial & Scientific   \n",
       "...                          ...   \n",
       "427559   Industrial & Scientific   \n",
       "427560   Industrial & Scientific   \n",
       "427561  Tools & Home Improvement   \n",
       "427562   Industrial & Scientific   \n",
       "427563  Tools & Home Improvement   \n",
       "\n",
       "                                                    title  average_rating  \\\n",
       "0       Carlisle FoodService Products 1077108 StorPlus...             4.4   \n",
       "1       OSHA Notice Signs - Do Not Open Door Must Be O...             5.0   \n",
       "2                         TEKTON 7165 6-Inch Dial Caliper             3.6   \n",
       "3       Conwork Heat Shrink Fork Terminal Connectors K...             4.3   \n",
       "4       HiLetgo 20pcs WH148 Single-Joint Potentiometer...             4.6   \n",
       "...                                                   ...             ...   \n",
       "427559  BOX USA 40x20x20 Corrugated Boxes, Large, 40L ...             3.6   \n",
       "427560  Socket Head Cap Screw, 3/8-16 x 5\", Stainless ...             4.1   \n",
       "427561                       American Lock ASL40 w/ chain             5.0   \n",
       "427562  SmartSign 24 x 18 inch “Warning - Place Garbag...             5.0   \n",
       "427563  Red Head WS-1226 Trubolt Carbon Steel Wedge 1/...             2.0   \n",
       "\n",
       "       parent_asin  \n",
       "0       B07N83D8HC  \n",
       "1       B07T3RJCL7  \n",
       "2       B000NQ4PVG  \n",
       "3       B06XF9L8TT  \n",
       "4       B07VJ4DNLW  \n",
       "...            ...  \n",
       "427559  B085M7B3MW  \n",
       "427560  B07CPFCHRJ  \n",
       "427561  B0063IERWU  \n",
       "427562  B095STFHF3  \n",
       "427563  B0B2F3RS3L  \n",
       "\n",
       "[427564 rows x 4 columns]"
      ]
     },
     "execution_count": 11,
     "metadata": {},
     "output_type": "execute_result"
    }
   ],
   "source": [
    "df_meta"
   ]
  },
  {
   "cell_type": "code",
   "execution_count": 16,
   "metadata": {},
   "outputs": [],
   "source": [
    "all_dataset = load_dataset(\"McAuley-Lab/Amazon-Reviews-2023\", \"5core_last_out_Industrial_and_Scientific\", trust_remote_code=True)\n"
   ]
  },
  {
   "cell_type": "code",
   "execution_count": 17,
   "metadata": {},
   "outputs": [],
   "source": [
    "import pandas as pd\n",
    "def filter_2019(df):\n",
    "    df['timestamp'] = pd.to_datetime(pd.to_numeric(df['timestamp']), unit='ms')\n",
    "\n",
    "    # Filter for data from the year 2020\n",
    "    df_filtered = df[df['timestamp'].dt.year >= 2019]\n",
    "    return df_filtered\n"
   ]
  },
  {
   "cell_type": "code",
   "execution_count": 19,
   "metadata": {},
   "outputs": [
    {
     "name": "stdout",
     "output_type": "stream",
     "text": [
      "(43171, 4)\n"
     ]
    }
   ],
   "source": [
    "test_df = all_dataset['test'].to_pandas()\n",
    "test_df = filter_2019(test_df)\n",
    "print(test_df.shape)\n",
    "test_df.to_pickle(\"data/industry_test.pkl\")"
   ]
  },
  {
   "cell_type": "code",
   "execution_count": 18,
   "metadata": {},
   "outputs": [
    {
     "name": "stdout",
     "output_type": "stream",
     "text": [
      "(174157, 4)\n"
     ]
    }
   ],
   "source": [
    "train_df = all_dataset['train'].to_pandas()\n",
    "train_df = filter_2019(train_df)\n",
    "print(train_df.shape)\n",
    "train_df.to_pickle(\"data/industry_train.pkl\")"
   ]
  },
  {
   "cell_type": "code",
   "execution_count": 31,
   "metadata": {},
   "outputs": [
    {
     "name": "stdout",
     "output_type": "stream",
     "text": [
      "(38729, 4)\n"
     ]
    }
   ],
   "source": [
    "valid_df = all_dataset['valid'].to_pandas()\n",
    "valid_df = filter_2019(valid_df)\n",
    "print(valid_df.shape)\n",
    "valid_df.to_pickle(\"data/industry_valid.pkl\")"
   ]
  },
  {
   "cell_type": "code",
   "execution_count": 3,
   "metadata": {},
   "outputs": [],
   "source": [
    "raw_dataset = load_dataset(\"McAuley-Lab/Amazon-Reviews-2023\", \"5core_rating_only_Industrial_and_Scientific\", trust_remote_code=True)\n"
   ]
  },
  {
   "cell_type": "code",
   "execution_count": 12,
   "metadata": {},
   "outputs": [],
   "source": [
    "raw_df = raw_dataset['full'].to_pandas()\n",
    "from recommend.preprocess import filter_meta\n",
    "df_meta = filter_meta(df_meta)\n",
    "\n",
    "df_item = raw_df['parent_asin'].unique()"
   ]
  },
  {
   "cell_type": "code",
   "execution_count": 14,
   "metadata": {},
   "outputs": [],
   "source": [
    "df_item\n",
    "df_meta = df_meta[df_meta['parent_asin'].isin(df_item)]\n"
   ]
  },
  {
   "cell_type": "code",
   "execution_count": null,
   "metadata": {},
   "outputs": [
    {
     "name": "stdout",
     "output_type": "stream",
     "text": [
      "(25848, 4)\n"
     ]
    }
   ],
   "source": [
    "df_meta.to_pickle(\"data/industry_meta.pkl\")\n",
    "print(df_meta.shape)"
   ]
  }
 ],
 "metadata": {
  "kernelspec": {
   "display_name": "rs",
   "language": "python",
   "name": "python3"
  },
  "language_info": {
   "codemirror_mode": {
    "name": "ipython",
    "version": 3
   },
   "file_extension": ".py",
   "mimetype": "text/x-python",
   "name": "python",
   "nbconvert_exporter": "python",
   "pygments_lexer": "ipython3",
   "version": "3.10.16"
  }
 },
 "nbformat": 4,
 "nbformat_minor": 2
}
