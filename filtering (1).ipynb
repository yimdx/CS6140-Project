{
 "cells": [
  {
   "cell_type": "code",
   "execution_count": 2,
   "id": "6313c270",
   "metadata": {},
   "outputs": [
    {
     "name": "stdout",
     "output_type": "stream",
     "text": [
      "shape of data =  (2237, 5)\n"
     ]
    },
    {
     "data": {
      "text/html": [
       "<div>\n",
       "<style scoped>\n",
       "    .dataframe tbody tr th:only-of-type {\n",
       "        vertical-align: middle;\n",
       "    }\n",
       "\n",
       "    .dataframe tbody tr th {\n",
       "        vertical-align: top;\n",
       "    }\n",
       "\n",
       "    .dataframe thead th {\n",
       "        text-align: right;\n",
       "    }\n",
       "</style>\n",
       "<table border=\"1\" class=\"dataframe\">\n",
       "  <thead>\n",
       "    <tr style=\"text-align: right;\">\n",
       "      <th></th>\n",
       "      <th>user_id</th>\n",
       "      <th>parent_asin</th>\n",
       "      <th>rating</th>\n",
       "      <th>timestamp</th>\n",
       "      <th>history</th>\n",
       "    </tr>\n",
       "  </thead>\n",
       "  <tbody>\n",
       "    <tr>\n",
       "      <th>0</th>\n",
       "      <td>AFSKPY37N3C43SOI5IEXEK5JSIYA</td>\n",
       "      <td>B07J3GH1W1</td>\n",
       "      <td>5.0</td>\n",
       "      <td>1547589356557</td>\n",
       "      <td>NaN</td>\n",
       "    </tr>\n",
       "    <tr>\n",
       "      <th>1</th>\n",
       "      <td>AFSKPY37N3C43SOI5IEXEK5JSIYA</td>\n",
       "      <td>B07W397QG4</td>\n",
       "      <td>5.0</td>\n",
       "      <td>1593352422858</td>\n",
       "      <td>B07J3GH1W1</td>\n",
       "    </tr>\n",
       "    <tr>\n",
       "      <th>2</th>\n",
       "      <td>AFSKPY37N3C43SOI5IEXEK5JSIYA</td>\n",
       "      <td>B07KG1TWP5</td>\n",
       "      <td>5.0</td>\n",
       "      <td>1596473351088</td>\n",
       "      <td>B07J3GH1W1 B07W397QG4</td>\n",
       "    </tr>\n",
       "    <tr>\n",
       "      <th>3</th>\n",
       "      <td>AFSKPY37N3C43SOI5IEXEK5JSIYA</td>\n",
       "      <td>B08JTNQFZY</td>\n",
       "      <td>5.0</td>\n",
       "      <td>1617904219785</td>\n",
       "      <td>B07J3GH1W1 B07W397QG4 B07KG1TWP5</td>\n",
       "    </tr>\n",
       "    <tr>\n",
       "      <th>4</th>\n",
       "      <td>AFSKPY37N3C43SOI5IEXEK5JSIYA</td>\n",
       "      <td>B07SLFWZKN</td>\n",
       "      <td>3.0</td>\n",
       "      <td>1619737501209</td>\n",
       "      <td>B07J3GH1W1 B07W397QG4 B07KG1TWP5 B08JTNQFZY</td>\n",
       "    </tr>\n",
       "  </tbody>\n",
       "</table>\n",
       "</div>"
      ],
      "text/plain": [
       "                        user_id parent_asin  rating      timestamp   \n",
       "0  AFSKPY37N3C43SOI5IEXEK5JSIYA  B07J3GH1W1     5.0  1547589356557  \\\n",
       "1  AFSKPY37N3C43SOI5IEXEK5JSIYA  B07W397QG4     5.0  1593352422858   \n",
       "2  AFSKPY37N3C43SOI5IEXEK5JSIYA  B07KG1TWP5     5.0  1596473351088   \n",
       "3  AFSKPY37N3C43SOI5IEXEK5JSIYA  B08JTNQFZY     5.0  1617904219785   \n",
       "4  AFSKPY37N3C43SOI5IEXEK5JSIYA  B07SLFWZKN     3.0  1619737501209   \n",
       "\n",
       "                                       history  \n",
       "0                                          NaN  \n",
       "1                                   B07J3GH1W1  \n",
       "2                        B07J3GH1W1 B07W397QG4  \n",
       "3             B07J3GH1W1 B07W397QG4 B07KG1TWP5  \n",
       "4  B07J3GH1W1 B07W397QG4 B07KG1TWP5 B08JTNQFZY  "
      ]
     },
     "execution_count": 2,
     "metadata": {},
     "output_type": "execute_result"
    }
   ],
   "source": [
    "import pandas as pd\n",
    "# 5-core-train\n",
    "df = pd.read_csv('5core/All_Beauty.train.csv')\n",
    "print(\"shape of data = \", df.shape)\n",
    "df[:5]"
   ]
  },
  {
   "cell_type": "code",
   "execution_count": 8,
   "id": "e58e78c3",
   "metadata": {},
   "outputs": [],
   "source": [
    "from surprise import KNNWithMeans, Reader, Dataset\n",
    "from surprise.model_selection import train_test_split, GridSearchCV\n",
    "from surprise.accuracy import rmse\n",
    "\n",
    "reader = Reader(rating_scale=(1, 5))\n",
    "data = Dataset.load_from_df(df[['user_id', 'parent_asin', 'rating']], reader)\n",
    "trainset = data.build_full_trainset()"
   ]
  },
  {
   "cell_type": "code",
   "execution_count": 9,
   "id": "fd25e99c",
   "metadata": {},
   "outputs": [
    {
     "name": "stdout",
     "output_type": "stream",
     "text": [
      "Computing the cosine similarity matrix...\n",
      "Done computing similarity matrix.\n"
     ]
    },
    {
     "data": {
      "text/plain": [
       "<surprise.prediction_algorithms.knns.KNNWithMeans at 0x12e9e1b50>"
      ]
     },
     "execution_count": 9,
     "metadata": {},
     "output_type": "execute_result"
    }
   ],
   "source": [
    "#  Initialize and Train KNN with Means\n",
    "sim_options = {\n",
    "    'name': 'cosine',  # Try different similarity measures to see what works best.\n",
    "    'user_based': True  # Set to False for item-based collaborative filtering.\n",
    "}\n",
    "\n",
    "model = KNNWithMeans(sim_options=sim_options)\n",
    "model.fit(trainset)"
   ]
  },
  {
   "cell_type": "code",
   "execution_count": 10,
   "id": "83c43e56",
   "metadata": {},
   "outputs": [
    {
     "name": "stdout",
     "output_type": "stream",
     "text": [
      "shape of data =  (2237, 5)\n"
     ]
    },
    {
     "data": {
      "text/html": [
       "<div>\n",
       "<style scoped>\n",
       "    .dataframe tbody tr th:only-of-type {\n",
       "        vertical-align: middle;\n",
       "    }\n",
       "\n",
       "    .dataframe tbody tr th {\n",
       "        vertical-align: top;\n",
       "    }\n",
       "\n",
       "    .dataframe thead th {\n",
       "        text-align: right;\n",
       "    }\n",
       "</style>\n",
       "<table border=\"1\" class=\"dataframe\">\n",
       "  <thead>\n",
       "    <tr style=\"text-align: right;\">\n",
       "      <th></th>\n",
       "      <th>user_id</th>\n",
       "      <th>parent_asin</th>\n",
       "      <th>rating</th>\n",
       "      <th>timestamp</th>\n",
       "      <th>history</th>\n",
       "    </tr>\n",
       "  </thead>\n",
       "  <tbody>\n",
       "    <tr>\n",
       "      <th>0</th>\n",
       "      <td>AFSKPY37N3C43SOI5IEXEK5JSIYA</td>\n",
       "      <td>B07J3GH1W1</td>\n",
       "      <td>5.0</td>\n",
       "      <td>1547589356557</td>\n",
       "      <td>NaN</td>\n",
       "    </tr>\n",
       "    <tr>\n",
       "      <th>1</th>\n",
       "      <td>AFSKPY37N3C43SOI5IEXEK5JSIYA</td>\n",
       "      <td>B07W397QG4</td>\n",
       "      <td>5.0</td>\n",
       "      <td>1593352422858</td>\n",
       "      <td>B07J3GH1W1</td>\n",
       "    </tr>\n",
       "    <tr>\n",
       "      <th>2</th>\n",
       "      <td>AFSKPY37N3C43SOI5IEXEK5JSIYA</td>\n",
       "      <td>B07KG1TWP5</td>\n",
       "      <td>5.0</td>\n",
       "      <td>1596473351088</td>\n",
       "      <td>B07J3GH1W1 B07W397QG4</td>\n",
       "    </tr>\n",
       "    <tr>\n",
       "      <th>3</th>\n",
       "      <td>AFSKPY37N3C43SOI5IEXEK5JSIYA</td>\n",
       "      <td>B08JTNQFZY</td>\n",
       "      <td>5.0</td>\n",
       "      <td>1617904219785</td>\n",
       "      <td>B07J3GH1W1 B07W397QG4 B07KG1TWP5</td>\n",
       "    </tr>\n",
       "    <tr>\n",
       "      <th>4</th>\n",
       "      <td>AFSKPY37N3C43SOI5IEXEK5JSIYA</td>\n",
       "      <td>B07SLFWZKN</td>\n",
       "      <td>3.0</td>\n",
       "      <td>1619737501209</td>\n",
       "      <td>B07J3GH1W1 B07W397QG4 B07KG1TWP5 B08JTNQFZY</td>\n",
       "    </tr>\n",
       "  </tbody>\n",
       "</table>\n",
       "</div>"
      ],
      "text/plain": [
       "                        user_id parent_asin  rating      timestamp   \n",
       "0  AFSKPY37N3C43SOI5IEXEK5JSIYA  B07J3GH1W1     5.0  1547589356557  \\\n",
       "1  AFSKPY37N3C43SOI5IEXEK5JSIYA  B07W397QG4     5.0  1593352422858   \n",
       "2  AFSKPY37N3C43SOI5IEXEK5JSIYA  B07KG1TWP5     5.0  1596473351088   \n",
       "3  AFSKPY37N3C43SOI5IEXEK5JSIYA  B08JTNQFZY     5.0  1617904219785   \n",
       "4  AFSKPY37N3C43SOI5IEXEK5JSIYA  B07SLFWZKN     3.0  1619737501209   \n",
       "\n",
       "                                       history  \n",
       "0                                          NaN  \n",
       "1                                   B07J3GH1W1  \n",
       "2                        B07J3GH1W1 B07W397QG4  \n",
       "3             B07J3GH1W1 B07W397QG4 B07KG1TWP5  \n",
       "4  B07J3GH1W1 B07W397QG4 B07KG1TWP5 B08JTNQFZY  "
      ]
     },
     "execution_count": 10,
     "metadata": {},
     "output_type": "execute_result"
    }
   ],
   "source": [
    "# 5-core-test\n",
    "test_df = pd.read_csv('5core/All_Beauty.test.csv')\n",
    "print(\"shape of data = \", df.shape)\n",
    "df[:5]"
   ]
  },
  {
   "cell_type": "code",
   "execution_count": 11,
   "id": "15d0c86b",
   "metadata": {},
   "outputs": [],
   "source": [
    "# Convert DataFrame to list of tuples for testing\n",
    "testset = list(zip(test_df['user_id'].values, test_df['parent_asin'].values, test_df['rating'].values))"
   ]
  },
  {
   "cell_type": "code",
   "execution_count": 12,
   "id": "ecc6f3fd",
   "metadata": {},
   "outputs": [
    {
     "name": "stdout",
     "output_type": "stream",
     "text": [
      "RMSE: 1.4255\n",
      "Test RMSE:  1.4254651422562015\n"
     ]
    }
   ],
   "source": [
    "# Test the Model\n",
    "predictions = model.test(testset)\n",
    "print(\"Test RMSE: \", rmse(predictions))\n"
   ]
  },
  {
   "cell_type": "markdown",
   "id": "40395a1b",
   "metadata": {},
   "source": [
    "# Observation\n",
    "On a 1 to 5 scale, an error of approximately 1.42 means that your predictions are generally off by slightly more than one rating point."
   ]
  },
  {
   "cell_type": "code",
   "execution_count": 14,
   "id": "2de004ea",
   "metadata": {},
   "outputs": [
    {
     "name": "stdout",
     "output_type": "stream",
     "text": [
      "Estimated rating for B07SLFWZKN by AFSKPY37N3C43SOI5IEXEK5JSIYA is 4.037774349833174\n"
     ]
    }
   ],
   "source": [
    "# Use the Model for Recommendations\n",
    "user_id = 'AFSKPY37N3C43SOI5IEXEK5JSIYA'\n",
    "item_id = 'B07SLFWZKN'\n",
    "predicted_rating = model.predict(user_id, item_id)\n",
    "print(f\"Estimated rating for {item_id} by {user_id} is {predicted_rating.est}\")"
   ]
  },
  {
   "cell_type": "markdown",
   "id": "5f4d112c",
   "metadata": {},
   "source": [
    "# Observation\n",
    "actual rating is 3.0. error is not trival"
   ]
  },
  {
   "cell_type": "code",
   "execution_count": 15,
   "id": "d91e93f8",
   "metadata": {},
   "outputs": [
    {
     "name": "stdout",
     "output_type": "stream",
     "text": [
      "RMSE: 1.1795\n"
     ]
    }
   ],
   "source": [
    "# Initialize the SVD algorithm\n",
    "from surprise import SVD\n",
    "from surprise import accuracy\n",
    "\n",
    "model = SVD()\n",
    "model.fit(trainset)\n",
    "\n",
    "# Test the model\n",
    "predictions = model.test(testset)\n",
    "\n",
    "# Calculate and print RMSE\n",
    "rmse = accuracy.rmse(predictions)"
   ]
  },
  {
   "cell_type": "code",
   "execution_count": 16,
   "id": "d84e98cb",
   "metadata": {},
   "outputs": [
    {
     "name": "stdout",
     "output_type": "stream",
     "text": [
      "Estimated rating for B07SLFWZKN by AFSKPY37N3C43SOI5IEXEK5JSIYA is 4.070465018238326\n"
     ]
    }
   ],
   "source": [
    "# Use the Model for Recommendations\n",
    "user_id = 'AFSKPY37N3C43SOI5IEXEK5JSIYA'\n",
    "item_id = 'B07SLFWZKN'\n",
    "predicted_rating = model.predict(user_id, item_id)\n",
    "print(f\"Estimated rating for {item_id} by {user_id} is {predicted_rating.est}\")"
   ]
  },
  {
   "cell_type": "code",
   "execution_count": 17,
   "id": "4340a9ab",
   "metadata": {},
   "outputs": [
    {
     "name": "stdout",
     "output_type": "stream",
     "text": [
      "0.904370009296442\n",
      "{'n_epochs': 10, 'lr_all': 0.005, 'reg_all': 0.02}\n"
     ]
    }
   ],
   "source": [
    "# use grid search to improve SVD model\n",
    "from surprise.model_selection import GridSearchCV\n",
    "\n",
    "param_grid = {'n_epochs': [5, 10], 'lr_all': [0.002, 0.005], 'reg_all': [0.02, 0.1]}\n",
    "gs = GridSearchCV(SVD, param_grid, measures=['rmse'], cv=3)\n",
    "\n",
    "gs.fit(data)\n",
    "\n",
    "# best RMSE score\n",
    "print(gs.best_score['rmse'])\n",
    "\n",
    "# combination of parameters that gave the best RMSE score\n",
    "print(gs.best_params['rmse'])"
   ]
  },
  {
   "cell_type": "code",
   "execution_count": null,
   "id": "0c1968dc",
   "metadata": {},
   "outputs": [],
   "source": []
  }
 ],
 "metadata": {
  "kernelspec": {
   "display_name": "Python 3 (ipykernel)",
   "language": "python",
   "name": "python3"
  },
  "language_info": {
   "codemirror_mode": {
    "name": "ipython",
    "version": 3
   },
   "file_extension": ".py",
   "mimetype": "text/x-python",
   "name": "python",
   "nbconvert_exporter": "python",
   "pygments_lexer": "ipython3",
   "version": "3.11.1"
  }
 },
 "nbformat": 4,
 "nbformat_minor": 5
}
