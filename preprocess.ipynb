{
 "cells": [
  {
   "cell_type": "code",
   "execution_count": null,
   "metadata": {},
   "outputs": [],
   "source": [
    "import pandas as pd\n",
    "df_meta = pd.read_json(\"meta_All_Beauty.jsonl\", lines=True)\n",
    "df = pd.read_csv('All_Beauty.csv')\n"
   ]
  },
  {
   "cell_type": "code",
   "execution_count": 2,
   "metadata": {},
   "outputs": [
    {
     "data": {
      "text/plain": [
       "Index(['main_category', 'title', 'average_rating', 'rating_number', 'features',\n",
       "       'description', 'price', 'images', 'videos', 'store', 'categories',\n",
       "       'details', 'parent_asin', 'bought_together'],\n",
       "      dtype='object')"
      ]
     },
     "execution_count": 2,
     "metadata": {},
     "output_type": "execute_result"
    }
   ],
   "source": [
    "df_meta.columns"
   ]
  },
  {
   "cell_type": "markdown",
   "metadata": {},
   "source": [
    "# Retrive data from meta"
   ]
  },
  {
   "cell_type": "code",
   "execution_count": 11,
   "metadata": {},
   "outputs": [
    {
     "name": "stdout",
     "output_type": "stream",
     "text": [
      "(112590, 4)\n",
      "(2535, 7)\n",
      "(2535, 4)\n",
      "Empty DataFrame\n",
      "Columns: [user_id, parent_asin, rating, timestamp, main_category, title, average_rating]\n",
      "Index: []\n",
      "Empty DataFrame\n",
      "Columns: [main_category, title, average_rating, parent_asin]\n",
      "Index: []\n"
     ]
    }
   ],
   "source": [
    "df_meta = df_meta[[\"main_category\", \"title\", \"average_rating\", \"parent_asin\"]]\n",
    "print(df_meta.shape)\n",
    "df_merged = df.merge(df_meta, left_on='parent_asin', right_on='parent_asin', how='left')\n",
    "print(df_merged.shape)\n",
    "print(df.shape)\n",
    "\n",
    "print(df_merged[df_merged[\"title\"].isna() == True])\n",
    "\n",
    "print(df_meta[df_meta[\"title\"].isna() == True])"
   ]
  }
 ],
 "metadata": {
  "kernelspec": {
   "display_name": "surprise_env",
   "language": "python",
   "name": "python3"
  },
  "language_info": {
   "codemirror_mode": {
    "name": "ipython",
    "version": 3
   },
   "file_extension": ".py",
   "mimetype": "text/x-python",
   "name": "python",
   "nbconvert_exporter": "python",
   "pygments_lexer": "ipython3",
   "version": "3.9.18"
  }
 },
 "nbformat": 4,
 "nbformat_minor": 2
}
