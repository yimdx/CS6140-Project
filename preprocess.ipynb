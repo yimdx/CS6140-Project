{
 "cells": [
  {
   "cell_type": "code",
   "execution_count": null,
   "metadata": {},
   "outputs": [],
   "source": [
    "import pandas as pd\n",
    "df_meta = pd.read_json(\"data/meta_All_Beauty.jsonl\", lines=True)\n",
    "df = pd.read_csv('data/All_Beauty.train.csv')\n",
    "\n"
   ]
  },
  {
   "cell_type": "code",
   "execution_count": 2,
   "metadata": {},
   "outputs": [
    {
     "data": {
      "text/plain": [
       "Index(['main_category', 'title', 'average_rating', 'rating_number', 'features',\n",
       "       'description', 'price', 'images', 'videos', 'store', 'categories',\n",
       "       'details', 'parent_asin', 'bought_together'],\n",
       "      dtype='object')"
      ]
     },
     "execution_count": 2,
     "metadata": {},
     "output_type": "execute_result"
    }
   ],
   "source": [
    "df_meta.columns"
   ]
  },
  {
   "cell_type": "markdown",
   "metadata": {},
   "source": [
    "# Retrive data from meta"
   ]
  },
  {
   "cell_type": "code",
   "execution_count": 5,
   "metadata": {},
   "outputs": [
    {
     "name": "stdout",
     "output_type": "stream",
     "text": [
      "(112590, 4)\n",
      "(2029, 8)\n",
      "(2029, 5)\n"
     ]
    }
   ],
   "source": [
    "df_meta = df_meta[[\"main_category\", \"title\", \"average_rating\", \"parent_asin\"]]\n",
    "print(df_meta.shape)\n",
    "df_merged = df.merge(df_meta, left_on='parent_asin', right_on='parent_asin', how='left')\n",
    "print(df_merged.shape)\n",
    "print(df.shape)\n",
    "\n",
    "# print(df_merged[df_merged[\"title\"].isna() == True])\n",
    "\n",
    "# print(df_meta[df_meta[\"title\"].isna() == True])\n",
    "df_merged.to_csv(\"data/merged_beauty.csv\")"
   ]
  },
  {
   "cell_type": "code",
   "execution_count": 2,
   "metadata": {},
   "outputs": [],
   "source": [
    "test_df = pd.read_csv('data/All_Beauty.test.csv')\n",
    "df_meta = df_meta[[\"main_category\", \"title\", \"average_rating\", \"parent_asin\"]]\n",
    "test_df_merged = test_df.merge(df_meta, left_on='parent_asin', right_on='parent_asin', how='left')\n",
    "\n"
   ]
  },
  {
   "cell_type": "code",
   "execution_count": 4,
   "metadata": {},
   "outputs": [],
   "source": [
    "test_df_merged.to_csv(\"data/merged_test.csv\")"
   ]
  }
 ],
 "metadata": {
  "kernelspec": {
   "display_name": "surprise_env",
   "language": "python",
   "name": "python3"
  },
  "language_info": {
   "codemirror_mode": {
    "name": "ipython",
    "version": 3
   },
   "file_extension": ".py",
   "mimetype": "text/x-python",
   "name": "python",
   "nbconvert_exporter": "python",
   "pygments_lexer": "ipython3",
   "version": "3.9.18"
  }
 },
 "nbformat": 4,
 "nbformat_minor": 2
}
