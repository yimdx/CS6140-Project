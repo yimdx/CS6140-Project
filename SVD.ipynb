{
 "cells": [
  {
   "cell_type": "code",
   "execution_count": 2,
   "metadata": {},
   "outputs": [
    {
     "name": "stdout",
     "output_type": "stream",
     "text": [
      "/opt/anaconda3/envs/surprise_env/bin/python\n",
      "['/opt/anaconda3/envs/surprise_env/lib/python39.zip', '/opt/anaconda3/envs/surprise_env/lib/python3.9', '/opt/anaconda3/envs/surprise_env/lib/python3.9/lib-dynload', '', '/opt/anaconda3/envs/surprise_env/lib/python3.9/site-packages']\n",
      "1.26.4\n"
     ]
    }
   ],
   "source": [
    "# !pip install surprise\n",
    "!which python\n",
    "import sys\n",
    "print(sys.path)\n",
    "import numpy\n",
    "print(numpy.__version__)\n"
   ]
  },
  {
   "cell_type": "code",
   "execution_count": 4,
   "metadata": {},
   "outputs": [
    {
     "name": "stdout",
     "output_type": "stream",
     "text": [
      "shape of data =  (310977, 5)\n"
     ]
    },
    {
     "data": {
      "text/plain": [
       "<surprise.prediction_algorithms.matrix_factorization.SVD at 0x1050dea90>"
      ]
     },
     "execution_count": 4,
     "metadata": {},
     "output_type": "execute_result"
    }
   ],
   "source": [
    "import pandas as pd\n",
    "# 5-core-train\n",
    "df = pd.read_csv('Industrial_and_Scientific.train.csv')\n",
    "# df = df[df[\"timestamp\"]>1577836800000]\n",
    "\n",
    "print(\"shape of data = \", df.shape)\n",
    "df[:5]\n",
    "from surprise import KNNWithMeans, Reader, Dataset, SVD\n",
    "from surprise.model_selection import train_test_split, GridSearchCV\n",
    "from surprise.accuracy import rmse\n",
    "\n",
    "reader = Reader(rating_scale=(1, 5))\n",
    "data = Dataset.load_from_df(df[['user_id', 'parent_asin', 'rating']], reader)\n",
    "trainset = data.build_full_trainset()\n",
    "\n",
    "model = SVD(n_factors=50, reg_all=0.02, lr_all=0.005, n_epochs=20)\n",
    "model.fit(trainset)\n",
    "\n"
   ]
  },
  {
   "cell_type": "code",
   "execution_count": 12,
   "metadata": {},
   "outputs": [
    {
     "name": "stdout",
     "output_type": "stream",
     "text": [
      "shape of data =  (50985, 5)\n",
      "RMSE: 1.2003\n"
     ]
    }
   ],
   "source": [
    "test_df = pd.read_csv('Industrial_and_Scientific.test.csv')\n",
    "print(\"shape of data = \", test_df.shape)\n",
    "test_df = test_df[test_df[\"timestamp\"]>1577836800000]\n",
    "test_df[:5]\n",
    "from surprise import KNNWithMeans, Reader, Dataset, SVD\n",
    "from surprise.model_selection import train_test_split, GridSearchCV\n",
    "from surprise import accuracy\n",
    "\n",
    "reader = Reader(rating_scale=(1, 5))\n",
    "testset = list(zip(test_df['user_id'].values, test_df['parent_asin'].values, test_df['rating'].values))\n",
    "predictions = model.test(testset)\n",
    "rmse = accuracy.rmse(predictions)\n"
   ]
  },
  {
   "cell_type": "code",
   "execution_count": 6,
   "metadata": {},
   "outputs": [
    {
     "data": {
      "text/plain": [
       "25754"
      ]
     },
     "execution_count": 6,
     "metadata": {},
     "output_type": "execute_result"
    }
   ],
   "source": [
    "test_users = test_df['user_id'].unique()\n",
    "all_items = df['parent_asin'].unique()\n",
    "len(all_items)"
   ]
  },
  {
   "cell_type": "code",
   "execution_count": null,
   "metadata": {},
   "outputs": [
    {
     "name": "stdout",
     "output_type": "stream",
     "text": [
      "[(4.736528690063752, 'B0BGLW86W9'), (4.721786435250546, 'B0BGK59HR8'), (4.701797187531722, 'B09QLS5296'), (4.700752299972558, 'B093DDT85Y'), (4.67038644288445, 'B00OXPE8U6'), (4.66739783405139, 'B0BQHVMB8T'), (4.662067432528345, 'B092M11L68'), (4.658264782873315, 'B09GFCT2RL'), (4.657771921410287, 'B01GJRC816'), (4.65223607113101, 'B0922HKY44')]\n"
     ]
    }
   ],
   "source": [
    "# # print(len(predictions))\n",
    "# import tqdm as tqdm\n",
    "# # test_users = test_df['user_id'].values\n",
    "# length = len(test_users)\n",
    "# count = 0\n",
    "# topk = {}\n",
    "# k = 50\n",
    "# for user in test_users:\n",
    "#     count+=1\n",
    "#     print(count,\"\\/\", length, end='\\r')\n",
    "#     candidates = []\n",
    "#     user_viewed = df[df[\"user_id\"] == user]['parent_asin'].unique()\n",
    "#     for item in all_items:\n",
    "#         if item not in user_viewed:\n",
    "#             pred = model.predict(user, item)\n",
    "#             candidates.append((pred.est, item))\n",
    "#     candidates.sort(reverse=True)\n",
    "#     topk[user] = candidates[0:k]\n",
    "# print(topk[test_users[0]])\n",
    "# # print(test_df['user_id'].unique())\n"
   ]
  },
  {
   "cell_type": "code",
   "execution_count": null,
   "metadata": {},
   "outputs": [
    {
     "name": "stdout",
     "output_type": "stream",
     "text": [
      "[(4.610076881888819, 'B0B62KWJVZ'), (4.5893875151429455, 'B09T7TVYM3'), (4.5683535709661935, 'B08BVMRMC4'), (4.566905270409116, 'B06XXPJLBF'), (4.560358680861714, 'B07BF54FTF'), (4.557978310759263, 'B08VRPYS1K'), (4.548047524651786, 'B0BJNZX211'), (4.547215594889222, 'B008BK74EG'), (4.542924843738084, 'B0BR4SGTG8'), (4.540529363673145, 'B000051WTW')]\n"
     ]
    },
    {
     "name": "stderr",
     "output_type": "stream",
     "text": [
      "100%|██████████| 50985/50985 [02:38<00:00, 321.59it/s]"
     ]
    },
    {
     "name": "stdout",
     "output_type": "stream",
     "text": [
      "0.0\n"
     ]
    },
    {
     "name": "stderr",
     "output_type": "stream",
     "text": [
      "\n"
     ]
    }
   ],
   "source": [
    "# count = 0\n",
    "# print(topk[test_users[0]])\n",
    "# for i in tqdm.tqdm(range(len(test_users))):\n",
    "#     viewed = test_df[test_df[\"user_id\"]==test_users[i]]['rating'].unique()\n",
    "#     viewed_item = test_df[test_df[\"user_id\"]==test_users[i]]['parent_asin'].unique()[0]\n",
    "#     if viewed_item in topk[test_users[i]]:\n",
    "#         count+=1\n",
    "#     # print(viewed_item, viewed)\n",
    "# print(count/len(test_users))"
   ]
  },
  {
   "cell_type": "code",
   "execution_count": 13,
   "metadata": {},
   "outputs": [
    {
     "name": "stdout",
     "output_type": "stream",
     "text": [
      "Estimated rating for B09HSD6Q22 by AFNT6ZJCYQN3WDIKUSWHJDXNND2Q is 3.7320202238885742\n"
     ]
    },
    {
     "data": {
      "text/plain": [
       "0    3.0\n",
       "Name: rating, dtype: float64"
      ]
     },
     "execution_count": 13,
     "metadata": {},
     "output_type": "execute_result"
    }
   ],
   "source": [
    "user_id = 'AFNT6ZJCYQN3WDIKUSWHJDXNND2Q'\n",
    "item_id = 'B09HSD6Q22'\n",
    "predicted_rating = model.predict(user_id, item_id)\n",
    "print(f\"Estimated rating for {item_id} by {user_id} is {predicted_rating.est}\")\n",
    "\n",
    "test_df[(test_df[\"user_id\"]==user_id) & (test_df[\"parent_asin\"]==item_id)]['rating']\n",
    "\n"
   ]
  }
 ],
 "metadata": {
  "kernelspec": {
   "display_name": "surprise_env",
   "language": "python",
   "name": "python3"
  },
  "language_info": {
   "codemirror_mode": {
    "name": "ipython",
    "version": 3
   },
   "file_extension": ".py",
   "mimetype": "text/x-python",
   "name": "python",
   "nbconvert_exporter": "python",
   "pygments_lexer": "ipython3",
   "version": "3.9.18"
  }
 },
 "nbformat": 4,
 "nbformat_minor": 2
}
